{
 "cells": [
  {
   "cell_type": "code",
   "execution_count": 7,
   "id": "5d066cd4-87fe-41c9-8cbd-a0d60e877efc",
   "metadata": {},
   "outputs": [
    {
     "name": "stdout",
     "output_type": "stream",
     "text": [
      "0.7027027027027027\n",
      "0.6764705882352942\n",
      "1.0\n"
     ]
    }
   ],
   "source": [
    "import pandas as pd\n",
    "import numpy as np\n",
    "import matplotlib.pyplot as plt\n",
    "from sklearn.linear_model import LogisticRegression\n",
    "from sklearn.preprocessing import LabelEncoder\n",
    "from sklearn.model_selection import train_test_split\n",
    "from sklearn.pipeline import make_pipeline\n",
    "from sklearn.preprocessing import StandardScaler\n",
    "from sklearn.metrics import precision_score, recall_score\n",
    "\n",
    "# Подготовка данных\n",
    "train_data = pd.read_csv('train.csv')\n",
    "train_data.dropna(inplace=True)\n",
    "X = train_data.drop(columns=['Name','Sex','Ticket','Cabin','Embarked'])\n",
    "y = train_data['Survived']\n",
    "del X['Survived']\n",
    "X_train, X_test, y_train, y_test = train_test_split(X, y, test_size=0.2, random_state=42)\n",
    "\n",
    "# Обучение\n",
    "model = make_pipeline(\n",
    "    StandardScaler(),\n",
    "    LogisticRegression(max_iter=1000)\n",
    ")\n",
    "\n",
    "model.fit(X_train, y_train)\n",
    "\n",
    "pred = model.predict(X_test)\n",
    "predictions = model.predict_proba(X_test)\n",
    "\n",
    "accuracy = model.score(X_test, y_test)\n",
    "precision = precision_score(y_test, pred),\n",
    "recall = recall_score(y_test, pred)\n",
    "\n",
    "# Вывод метрик\n",
    "print(accuracy)\n",
    "print(precision[0])\n",
    "print(recall)\n",
    " \n",
    "# x = np.linspace(1,len(train_data),len(train_data))\n",
    "# plt.plot(x,train_data['Age'])\n",
    "# plt.grid()\n",
    "# plt.show()"
   ]
  },
  {
   "cell_type": "code",
   "execution_count": null,
   "id": "2f9e35af-cd3a-4218-bbda-ab34db0820ca",
   "metadata": {},
   "outputs": [],
   "source": []
  }
 ],
 "metadata": {
  "kernelspec": {
   "display_name": "Python 3 (ipykernel)",
   "language": "python",
   "name": "python3"
  },
  "language_info": {
   "codemirror_mode": {
    "name": "ipython",
    "version": 3
   },
   "file_extension": ".py",
   "mimetype": "text/x-python",
   "name": "python",
   "nbconvert_exporter": "python",
   "pygments_lexer": "ipython3",
   "version": "3.12.0"
  }
 },
 "nbformat": 4,
 "nbformat_minor": 5
}
